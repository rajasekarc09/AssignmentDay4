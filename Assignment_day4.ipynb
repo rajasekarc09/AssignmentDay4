{
  "nbformat": 4,
  "nbformat_minor": 0,
  "metadata": {
    "colab": {
      "name": "Assignment_day4.ipynb",
      "provenance": [],
      "collapsed_sections": []
    },
    "kernelspec": {
      "name": "python3",
      "display_name": "Python 3"
    }
  },
  "cells": [
    {
      "cell_type": "code",
      "metadata": {
        "id": "liIrpzcLqcq3",
        "colab_type": "code",
        "colab": {
          "base_uri": "https://localhost:8080/",
          "height": 243
        },
        "outputId": "e266d627-9e5d-46ca-c3b1-5996af674461"
      },
      "source": [
        "print(\" Program to extract Substrings !! \\n\")\n",
        "\n",
        "sentence = input(\"Enter a sentence of your choice: \\n\").lower()\n",
        "\n",
        "search_letter = input(\"\\nEnter a Search Letter: \").lower()\n",
        "\n",
        "length = len(sentence)\n",
        "index = 0\n",
        "\n",
        "if length > 0:\n",
        "    if search_letter in sentence:\n",
        "        count = sentence.count(search_letter)\n",
        "        index = sentence.index(search_letter)\n",
        "        print(f\"\\nSubstring count: {count} \\n\")\n",
        "        print(f\"Length = {length} \\n\")\n",
        "        print(f\"Index of the Sub_String : {index} \\n\")\n",
        "\n",
        "    else:\n",
        "        print(\"\\nEnter a valid Search Letter !?! \\n\")"
      ],
      "execution_count": 6,
      "outputs": [
        {
          "output_type": "stream",
          "text": [
            " Program to extract Substrings !! \n",
            "\n",
            "Enter a sentence of your choice: \n",
            "\"What we think we become;we are Python programmer\"\n",
            "\n",
            "Enter a Search Letter: p\n",
            "\n",
            "Substring count: 2 \n",
            "\n",
            "Length = 50 \n",
            "\n",
            "Index of the Sub_String : 32 \n",
            "\n"
          ],
          "name": "stdout"
        }
      ]
    },
    {
      "cell_type": "code",
      "metadata": {
        "id": "13VYz46frh2s",
        "colab_type": "code",
        "colab": {
          "base_uri": "https://localhost:8080/",
          "height": 139
        },
        "outputId": "6682b180-c329-41be-b4bf-670147f2c71c"
      },
      "source": [
        "print(\" $$$$$$$$$$$$$$$ Program to convert string !! $$$$$$$$$$$$$$$$$$$$$$$$$$\")\n",
        "\n",
        "key = input(\"Enter a sentence: \\n\")\n",
        "\n",
        "lower = key.lower()\n",
        "\n",
        "print(f\"Lower cased sentence: {lower} \\n\")\n",
        "\n",
        "upper = key.upper()\n",
        "\n",
        "print(f\"Upper cased sentence: {upper} \\n\")"
      ],
      "execution_count": 5,
      "outputs": [
        {
          "output_type": "stream",
          "text": [
            " $$$$$$$$$$$$$$$ Program to convert string !! $$$$$$$$$$$$$$$$$$$$$$$$$$\n",
            "Enter a sentence: \n",
            "god grace only\n",
            "Lower cased sentence: god grace only \n",
            "\n",
            "Upper cased sentence: GOD GRACE ONLY \n",
            "\n"
          ],
          "name": "stdout"
        }
      ]
    }
  ]
}